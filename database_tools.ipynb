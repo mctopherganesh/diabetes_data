{
 "cells": [
  {
   "cell_type": "code",
   "execution_count": 1,
   "metadata": {},
   "outputs": [],
   "source": [
    "from IPython.core.interactiveshell import InteractiveShell\n",
    "InteractiveShell.ast_node_interactivity = \"all\""
   ]
  },
  {
   "cell_type": "code",
   "execution_count": 1,
   "metadata": {},
   "outputs": [],
   "source": [
    "import sqlite3\n",
    "import datetime\n",
    "import pandas as pd"
   ]
  },
  {
   "cell_type": "code",
   "execution_count": 14,
   "metadata": {},
   "outputs": [],
   "source": [
    "x = datetime.datetime.now()"
   ]
  },
  {
   "cell_type": "code",
   "execution_count": 15,
   "metadata": {},
   "outputs": [
    {
     "data": {
      "text/plain": [
       "'2020-06-05 10:47:32'"
      ]
     },
     "execution_count": 15,
     "metadata": {},
     "output_type": "execute_result"
    }
   ],
   "source": [
    "x.strftime(\"%Y-%m-%d %H:%M:%S\")"
   ]
  },
  {
   "cell_type": "code",
   "execution_count": 21,
   "metadata": {},
   "outputs": [
    {
     "data": {
      "text/plain": [
       "\"('2020-06-05 10:53:58',123)\""
      ]
     },
     "execution_count": 21,
     "metadata": {},
     "output_type": "execute_result"
    }
   ],
   "source": [
    "reads_in_bs(123)"
   ]
  },
  {
   "cell_type": "code",
   "execution_count": 20,
   "metadata": {},
   "outputs": [],
   "source": [
    "def reads_in_bs(bs):\n",
    "    dtstmp = return_date()\n",
    "    return \"('{}',{})\".format(dtstmp, bs)"
   ]
  },
  {
   "cell_type": "code",
   "execution_count": 17,
   "metadata": {},
   "outputs": [
    {
     "data": {
      "text/plain": [
       "'2020-06-05 10:49:38'"
      ]
     },
     "execution_count": 17,
     "metadata": {},
     "output_type": "execute_result"
    }
   ],
   "source": [
    "return_date()"
   ]
  },
  {
   "cell_type": "code",
   "execution_count": 16,
   "metadata": {},
   "outputs": [],
   "source": [
    "def return_date():\n",
    "    x = datetime.datetime.now()\n",
    "    return x.strftime(\"%Y-%m-%d %H:%M:%S\")\n",
    "\n",
    "\n",
    "def sqlite_create_table():\n",
    "    conn = sqlite3.connect('test.db') # previously 'bs.db'\n",
    "    c = conn.cursor()\n",
    "    c.execute('create table if not exists blood_sugar(date_measure_taken text, bs_measure real)')\n",
    "    c.close()\n",
    "    conn.close()\n",
    "    \n",
    "def sqlite_data_entry(new_data_row):\n",
    "    conn = sqlite3.connect('test.db')\n",
    "    c = conn.cursor()\n",
    "    c.execute('insert into blood_sugar values{}'.format(new_data_row))\n",
    "    conn.commit() # have to run this after changing the table\n",
    "    c.close()  # closes the connection to the cursor\n",
    "    conn.close()\n",
    "    \n",
    "\n",
    "def date_string_to_date_obj_with_subtraction(d_string):\n",
    "    MONTH = d_string[:2]\n",
    "    DAY = d_string[2:4]\n",
    "    YEAR = d_string[4:8]\n",
    "    HOUR = d_string[-4:-2]\n",
    "    MIN = d_string[-2:]\n",
    "    \n",
    "    string_to_be_processed = (YEAR + '-' + MONTH + '-' + DAY + ' ' + HOUR + ':' + MIN)\n",
    "    \n",
    "    date_obj = datetime.datetime.strptime(string_to_be_processed, '%Y-%m-%d %H:%M')\n",
    "    sixty_seven_minutes = datetime.timedelta(minutes=67)\n",
    "    date_obj = date_obj - sixty_seven_minutes\n",
    "\n",
    "    return str(date_obj)\n",
    "\n",
    "def date_string_to_date_obj(d_string):\n",
    "    MONTH = d_string[:2]\n",
    "    DAY = d_string[2:4]\n",
    "    YEAR = d_string[4:8]\n",
    "    HOUR = d_string[-4:-2]\n",
    "    MIN = d_string[-2:]\n",
    "    \n",
    "    string_to_be_processed = (YEAR + '-' + MONTH + '-' + DAY + ' ' + HOUR + ':' + MIN)\n",
    "    \n",
    "    date_obj = datetime.datetime.strptime(string_to_be_processed, '%Y-%m-%d %H:%M')\n",
    "    \n",
    "    return str(date_obj)\n",
    "\n",
    "\n",
    "def data_capture():\n",
    "\n",
    "    date = input('enter date and time stamp: ')\n",
    "    bs = input('enter bs measure: ')\n",
    "    \n",
    "    date = date_string_to_date_obj_with_subtraction(date)\n",
    "    \n",
    "    return \"('{}',{})\".format(date, bs)\n",
    "\n",
    "\n",
    "\n"
   ]
  },
  {
   "cell_type": "code",
   "execution_count": 4,
   "metadata": {},
   "outputs": [],
   "source": [
    "sqlite_create_table()"
   ]
  },
  {
   "cell_type": "code",
   "execution_count": 132,
   "metadata": {},
   "outputs": [
    {
     "name": "stdout",
     "output_type": "stream",
     "text": [
      "enter date and time stamp: 052920200417\n",
      "enter bs measure: 95\n"
     ]
    }
   ],
   "source": [
    "new_row = data_capture()\n",
    "sqlite_data_entry(new_row)"
   ]
  },
  {
   "cell_type": "code",
   "execution_count": 133,
   "metadata": {},
   "outputs": [
    {
     "data": {
      "text/plain": [
       "[('2020-05-04 21:24:00', 456.0),\n",
       " ('2020-05-05 14:12:00', 215.0),\n",
       " ('2020-05-05 12:27:00', 206.0),\n",
       " ('2020-05-05 09:17:00', 223.0),\n",
       " ('2020-05-05 17:02:00', 285.0),\n",
       " ('2020-05-05 23:37:00', 343.0),\n",
       " ('2020-05-06 03:05:00', 302.0),\n",
       " ('2020-05-06 11:04:00', 209.0),\n",
       " ('2020-05-06 12:54:00', 245.0),\n",
       " ('2020-05-06 03:27:00', 214.0),\n",
       " ('2020-05-06 17:02:00', 227.0),\n",
       " ('2020-05-06 07:29:00', 222.0),\n",
       " ('2020-05-06 19:29:00', 222.0),\n",
       " ('2020-05-06 20:21:00', 151.0),\n",
       " ('2020-05-06 23:00:00', 286.0),\n",
       " ('2020-05-07 00:47:00', 284.0),\n",
       " ('2020-05-07 06:26:00', 66.0),\n",
       " ('2020-05-07 08:39:00', 362.0),\n",
       " ('2020-05-07 08:41:00', 347.0),\n",
       " ('2020-05-07 08:43:00', 338.0),\n",
       " ('2020-05-07 11:28:00', 340.0),\n",
       " ('2020-05-07 14:57:00', 320.0),\n",
       " ('2020-05-07 18:40:00', 235.0),\n",
       " ('2020-05-07 20:59:00', 294.0),\n",
       " ('2020-05-07 22:40:00', 338.0),\n",
       " ('2020-05-08 09:58:00', 302.0),\n",
       " ('2020-05-08 12:21:00', 348.0),\n",
       " ('2020-05-08 14:00:00', 319.0),\n",
       " ('2020-05-08 18:40:00', 306.0),\n",
       " ('2020-05-08 21:27:00', 273.0),\n",
       " ('2020-05-09 19:13:00', 326.0),\n",
       " ('2020-05-09 02:02:00', 326.0),\n",
       " ('2020-05-09 09:42:00', 227.0),\n",
       " ('2020-05-09 13:53:00', 154.0),\n",
       " ('2020-05-09 17:21:00', 164.0),\n",
       " ('2020-05-09 22:38:00', 123.0),\n",
       " ('2020-05-10 02:32:00', 191.0),\n",
       " ('2020-05-10 10:41:00', 69.0),\n",
       " ('2020-05-10 13:25:00', 181.0),\n",
       " ('2020-05-10 19:20:00', 155.0),\n",
       " ('2020-05-10 20:56:00', 139.0),\n",
       " ('2020-05-10 21:45:00', 174.0),\n",
       " ('2020-05-11 02:36:00', 212.0),\n",
       " ('2020-05-11 05:57:00', 296.0),\n",
       " ('2020-05-11 08:45:00', 162.0),\n",
       " ('2020-05-11 12:25:00', 114.0),\n",
       " ('2020-05-11 18:13:00', 107.0),\n",
       " ('2020-05-11 19:13:00', 93.0),\n",
       " ('2020-05-11 21:02:00', 184.0),\n",
       " ('2020-05-12 00:49:00', 160.0),\n",
       " ('2020-05-12 00:49:00', 162.0),\n",
       " ('2020-05-12 03:46:00', 60.0),\n",
       " ('2020-05-12 09:27:00', 84.0),\n",
       " ('2020-05-12 12:22:00', 90.0),\n",
       " ('2020-05-12 17:52:00', 85.0),\n",
       " ('2020-05-12 20:41:00', 138.0),\n",
       " ('2020-05-13 00:40:00', 170.0),\n",
       " ('2020-05-13 04:07:00', 65.0),\n",
       " ('2020-05-13 09:12:00', 165.0),\n",
       " ('2020-05-13 13:08:00', 161.0),\n",
       " ('2020-05-13 14:31:00', 65.0),\n",
       " ('2020-05-13 16:06:00', 66.0),\n",
       " ('2020-05-13 17:33:00', 125.0),\n",
       " ('2020-05-13 19:47:00', 174.0),\n",
       " ('2020-05-13 22:13:00', 263.0),\n",
       " ('2020-05-14 00:01:00', 235.0),\n",
       " ('2020-05-14 02:10:00', 118.0),\n",
       " ('2020-05-14 05:50:00', 118.0),\n",
       " ('2020-05-14 10:07:00', 95.0),\n",
       " ('2020-05-14 15:02:00', 139.0),\n",
       " ('2020-05-14 20:24:00', 127.0),\n",
       " ('0033-05-14 23:26:00', 218.0),\n",
       " ('2020-05-15 01:51:00', 190.0),\n",
       " ('2020-05-15 03:15:00', 163.0),\n",
       " ('2020-05-15 13:39:00', 98.0),\n",
       " ('2020-05-15 16:11:00', 158.0),\n",
       " ('2020-05-15 20:28:00', 127.0),\n",
       " ('2020-05-15 21:50:00', 169.0),\n",
       " ('0107-05-16 00:00:00', 222.0),\n",
       " ('2020-05-16 12:59:00', 98.0),\n",
       " ('2020-05-16 17:13:00', 146.0),\n",
       " ('2020-05-16 20:20:00', 114.0),\n",
       " ('2020-05-16 22:48:00', 228.0),\n",
       " ('2020-05-17 01:36:00', 155.0),\n",
       " ('2020-05-17 12:12:00', 150.0),\n",
       " ('2020-05-17 14:44:00', 175.0),\n",
       " ('2020-05-17 19:50:00', 171.0),\n",
       " ('2020-05-18 00:05:00', 154.0),\n",
       " ('2020-05-18 11:27:00', 143.0),\n",
       " ('2020-05-18 16:26:00', 99.0),\n",
       " ('2020-05-18 20:23:00', 143.0),\n",
       " ('2020-05-18 23:26:00', 218.0),\n",
       " ('2020-05-19 07:20:00', 104.0),\n",
       " ('2020-05-19 12:49:00', 157.0),\n",
       " ('2020-05-19 15:16:00', 84.0),\n",
       " ('2020-05-19 18:45:00', 90.0),\n",
       " ('2020-05-19 21:22:00', 183.0),\n",
       " ('2020-05-20 10:37:00', 121.0),\n",
       " ('2020-05-20 15:58:00', 95.0),\n",
       " ('2020-05-20 21:13:00', 112.0),\n",
       " ('2020-05-21 00:28:00', 129.0),\n",
       " ('2020-05-21 10:17:00', 82.0),\n",
       " ('2020-05-21 14:12:00', 109.0),\n",
       " ('2020-05-21 20:38:00', 106.0),\n",
       " ('2020-05-22 10:15:00', 59.0),\n",
       " ('2020-05-22 10:16:00', 69.0),\n",
       " ('2020-05-22 10:24:00', 62.0),\n",
       " ('2020-05-22 14:42:00', 90.0),\n",
       " ('2020-05-22 21:13:00', 83.0),\n",
       " ('2020-05-23 01:22:00', 221.0),\n",
       " ('2020-05-23 14:17:00', 151.0),\n",
       " ('2020-05-23 23:16:00', 185.0),\n",
       " ('2020-05-24 04:31:00', 126.0),\n",
       " ('2020-05-24 14:01:00', 159.0),\n",
       " ('2020-05-24 14:02:00', 168.0),\n",
       " ('2020-05-24 23:32:00', 151.0),\n",
       " ('2020-05-25 11:36:00', 113.0),\n",
       " ('2020-05-25 18:51:00', 132.0),\n",
       " ('2020-05-26 10:44:00', 100.0),\n",
       " ('2020-05-26 23:39:00', 95.0),\n",
       " ('2020-05-27 16:23:00', 109.0),\n",
       " ('2020-05-28 01:19:00', 126.0),\n",
       " ('2020-05-28 12:46:00', 106.0),\n",
       " ('2020-05-29 03:10:00', 95.0)]"
      ]
     },
     "execution_count": 133,
     "metadata": {},
     "output_type": "execute_result"
    }
   ],
   "source": [
    "def return_table():\n",
    "    conn = sqlite3.connect('bs.db')\n",
    "    c = conn.cursor()\n",
    "    c.execute(\"select * from blood_sugar\")\n",
    "    data = c.fetchall()\n",
    "    c.close()\n",
    "    conn.close()\n",
    "    \n",
    "    return data\n",
    "    \n",
    "return_table()"
   ]
  },
  {
   "cell_type": "code",
   "execution_count": null,
   "metadata": {},
   "outputs": [],
   "source": []
  }
 ],
 "metadata": {
  "kernelspec": {
   "display_name": "Python 3",
   "language": "python",
   "name": "python3"
  },
  "language_info": {
   "codemirror_mode": {
    "name": "ipython",
    "version": 3
   },
   "file_extension": ".py",
   "mimetype": "text/x-python",
   "name": "python",
   "nbconvert_exporter": "python",
   "pygments_lexer": "ipython3",
   "version": "3.7.6"
  }
 },
 "nbformat": 4,
 "nbformat_minor": 4
}
