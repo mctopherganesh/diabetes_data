{
 "cells": [
  {
   "cell_type": "markdown",
   "metadata": {},
   "source": [
    "# Diabetes Data Tracking\n",
    "---------------------------------------------------\n",
    "\n",
    "In this project I am trying to create an interface in which I can enter the data I collect about my blood sugar easily. I chose a blood sugar monitor that didn't have an app specifically so I could create a project like this.\n",
    "\n",
    "# Progress so far:"
   ]
  },
  {
   "cell_type": "code",
   "execution_count": 1,
   "metadata": {
    "jupyter": {
     "source_hidden": true
    }
   },
   "outputs": [],
   "source": [
    "# from IPython.lib.display import YouTubeVideo\n",
    "# YouTubeVideo('8Z6Zoao9YLI')"
   ]
  },
  {
   "cell_type": "markdown",
   "metadata": {},
   "source": [
    "#### The project objectives \n",
    "\n",
    "- Challenge myself to build a data pipeline from scratch\n",
    "- build upon current ability in SQL\n",
    "- create a simple tool that I can use to reference data about my health with a few simple commands \n",
    "\n",
    "#### Tools I'm using\n",
    "\n",
    "- Python \n",
    "\t+ pandas\n",
    "\t+ matplotlib\n",
    "\t+ sqlite3\n",
    "\t+ discord\n",
    "- SQL\n",
    "- Discord\n",
    "- Jupyter Notebooks\n",
    "\n",
    "#### (Pipeline) Dreams for future versions of project\n",
    "\n",
    "- I would like to be able to request certain kinds of graphs with customized commands on discord and have a graph returned to me as a ping (blood sugar for the day, week, compared to last week, etc.)\n",
    "- create additional databases to cross analyze information, what food I'm eating, [emotions tracking](https://github.com/mctopherganesh/emotions_tracking), and maybe a database tracking my productivity.\n",
    "\n",
    "\n",
    "#### Quick summary on process so far\n",
    "\n",
    "I waited a little long to start this project as it was bouncing around in my head since my diagnoses so I had to build a tool to enter the data from my blood sugar monitor (which keeps every test) by hand (well..with my right hand on the keyboard's numpad). "
   ]
  }
 ],
 "metadata": {
  "kernelspec": {
   "display_name": "Python 3",
   "language": "python",
   "name": "python3"
  },
  "language_info": {
   "codemirror_mode": {
    "name": "ipython",
    "version": 3
   },
   "file_extension": ".py",
   "mimetype": "text/x-python",
   "name": "python",
   "nbconvert_exporter": "python",
   "pygments_lexer": "ipython3",
   "version": "3.7.6"
  }
 },
 "nbformat": 4,
 "nbformat_minor": 4
}
