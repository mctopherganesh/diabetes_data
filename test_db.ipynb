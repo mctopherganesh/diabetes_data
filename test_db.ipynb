{
 "cells": [
  {
   "cell_type": "code",
   "execution_count": 1,
   "metadata": {},
   "outputs": [],
   "source": [
    "from IPython.core.interactiveshell import InteractiveShell\n",
    "InteractiveShell.ast_node_interactivity = \"all\""
   ]
  },
  {
   "cell_type": "code",
   "execution_count": 2,
   "metadata": {},
   "outputs": [
    {
     "data": {
      "text/plain": [
       "'Connected: @test.db'"
      ]
     },
     "execution_count": 2,
     "metadata": {},
     "output_type": "execute_result"
    }
   ],
   "source": [
    "%load_ext sql\n",
    "%sql sqlite:///test.db"
   ]
  },
  {
   "cell_type": "code",
   "execution_count": 7,
   "metadata": {},
   "outputs": [
    {
     "name": "stdout",
     "output_type": "stream",
     "text": [
      " * sqlite:///test.db\n",
      "Done.\n"
     ]
    },
    {
     "data": {
      "text/html": [
       "<table>\n",
       "    <tr>\n",
       "        <th>date_measure_taken</th>\n",
       "        <th>bs_measure</th>\n",
       "    </tr>\n",
       "    <tr>\n",
       "        <td>2020-06-05 11:07:21</td>\n",
       "        <td>123.0</td>\n",
       "    </tr>\n",
       "    <tr>\n",
       "        <td>2020-06-05 11:20:23</td>\n",
       "        <td>100.0</td>\n",
       "    </tr>\n",
       "    <tr>\n",
       "        <td>2020-06-05 11:21:34</td>\n",
       "        <td>147.0</td>\n",
       "    </tr>\n",
       "    <tr>\n",
       "        <td>2020-06-05 11:39:38</td>\n",
       "        <td>90.0</td>\n",
       "    </tr>\n",
       "    <tr>\n",
       "        <td>2020-06-05 11:53:07</td>\n",
       "        <td>140.0</td>\n",
       "    </tr>\n",
       "    <tr>\n",
       "        <td>2020-06-05 12:00:08</td>\n",
       "        <td>122.0</td>\n",
       "    </tr>\n",
       "</table>"
      ],
      "text/plain": [
       "[('2020-06-05 11:07:21', 123.0),\n",
       " ('2020-06-05 11:20:23', 100.0),\n",
       " ('2020-06-05 11:21:34', 147.0),\n",
       " ('2020-06-05 11:39:38', 90.0),\n",
       " ('2020-06-05 11:53:07', 140.0),\n",
       " ('2020-06-05 12:00:08', 122.0)]"
      ]
     },
     "execution_count": 7,
     "metadata": {},
     "output_type": "execute_result"
    }
   ],
   "source": [
    "%%sql\n",
    "\n",
    "select * from blood_sugar"
   ]
  },
  {
   "cell_type": "code",
   "execution_count": null,
   "metadata": {},
   "outputs": [],
   "source": []
  }
 ],
 "metadata": {
  "kernelspec": {
   "display_name": "Python 3",
   "language": "python",
   "name": "python3"
  },
  "language_info": {
   "codemirror_mode": {
    "name": "ipython",
    "version": 3
   },
   "file_extension": ".py",
   "mimetype": "text/x-python",
   "name": "python",
   "nbconvert_exporter": "python",
   "pygments_lexer": "ipython3",
   "version": "3.7.6"
  }
 },
 "nbformat": 4,
 "nbformat_minor": 4
}
