{
 "cells": [
  {
   "cell_type": "code",
   "execution_count": 1,
   "metadata": {},
   "outputs": [],
   "source": [
    "from IPython.core.interactiveshell import InteractiveShell\n",
    "InteractiveShell.ast_node_interactivity = \"all\""
   ]
  },
  {
   "cell_type": "code",
   "execution_count": 1,
   "metadata": {},
   "outputs": [],
   "source": [
    "%%capture\n",
    "%load_ext sql\n",
    "%sql sqlite:///bs.db"
   ]
  },
  {
   "cell_type": "code",
   "execution_count": 2,
   "metadata": {},
   "outputs": [
    {
     "name": "stdout",
     "output_type": "stream",
     "text": [
      " * sqlite:///bs.db\n",
      "Done.\n"
     ]
    },
    {
     "data": {
      "text/html": [
       "<table>\n",
       "    <tr>\n",
       "        <th>date_measure_taken</th>\n",
       "        <th>bs_measure</th>\n",
       "    </tr>\n",
       "    <tr>\n",
       "        <td>2020-05-04 21:24:00</td>\n",
       "        <td>456.0</td>\n",
       "    </tr>\n",
       "    <tr>\n",
       "        <td>2020-05-05 14:12:00</td>\n",
       "        <td>215.0</td>\n",
       "    </tr>\n",
       "    <tr>\n",
       "        <td>2020-05-05 12:27:00</td>\n",
       "        <td>206.0</td>\n",
       "    </tr>\n",
       "    <tr>\n",
       "        <td>2020-05-05 09:17:00</td>\n",
       "        <td>223.0</td>\n",
       "    </tr>\n",
       "    <tr>\n",
       "        <td>2020-05-05 17:02:00</td>\n",
       "        <td>285.0</td>\n",
       "    </tr>\n",
       "    <tr>\n",
       "        <td>2020-05-05 23:37:00</td>\n",
       "        <td>343.0</td>\n",
       "    </tr>\n",
       "    <tr>\n",
       "        <td>2020-05-06 03:05:00</td>\n",
       "        <td>302.0</td>\n",
       "    </tr>\n",
       "    <tr>\n",
       "        <td>2020-05-06 11:04:00</td>\n",
       "        <td>209.0</td>\n",
       "    </tr>\n",
       "    <tr>\n",
       "        <td>2020-05-06 12:54:00</td>\n",
       "        <td>245.0</td>\n",
       "    </tr>\n",
       "    <tr>\n",
       "        <td>2020-05-06 03:27:00</td>\n",
       "        <td>214.0</td>\n",
       "    </tr>\n",
       "    <tr>\n",
       "        <td>2020-05-06 17:02:00</td>\n",
       "        <td>227.0</td>\n",
       "    </tr>\n",
       "    <tr>\n",
       "        <td>2020-05-06 07:29:00</td>\n",
       "        <td>222.0</td>\n",
       "    </tr>\n",
       "    <tr>\n",
       "        <td>2020-05-06 19:29:00</td>\n",
       "        <td>222.0</td>\n",
       "    </tr>\n",
       "    <tr>\n",
       "        <td>2020-05-06 20:21:00</td>\n",
       "        <td>151.0</td>\n",
       "    </tr>\n",
       "    <tr>\n",
       "        <td>2020-05-06 23:00:00</td>\n",
       "        <td>286.0</td>\n",
       "    </tr>\n",
       "    <tr>\n",
       "        <td>2020-05-07 00:47:00</td>\n",
       "        <td>284.0</td>\n",
       "    </tr>\n",
       "    <tr>\n",
       "        <td>2020-05-07 06:26:00</td>\n",
       "        <td>66.0</td>\n",
       "    </tr>\n",
       "    <tr>\n",
       "        <td>2020-05-07 08:39:00</td>\n",
       "        <td>362.0</td>\n",
       "    </tr>\n",
       "    <tr>\n",
       "        <td>2020-05-07 08:41:00</td>\n",
       "        <td>347.0</td>\n",
       "    </tr>\n",
       "    <tr>\n",
       "        <td>2020-05-07 08:43:00</td>\n",
       "        <td>338.0</td>\n",
       "    </tr>\n",
       "    <tr>\n",
       "        <td>2020-05-07 11:28:00</td>\n",
       "        <td>340.0</td>\n",
       "    </tr>\n",
       "    <tr>\n",
       "        <td>2020-05-07 14:57:00</td>\n",
       "        <td>320.0</td>\n",
       "    </tr>\n",
       "    <tr>\n",
       "        <td>2020-05-07 18:40:00</td>\n",
       "        <td>235.0</td>\n",
       "    </tr>\n",
       "    <tr>\n",
       "        <td>2020-05-07 20:59:00</td>\n",
       "        <td>294.0</td>\n",
       "    </tr>\n",
       "    <tr>\n",
       "        <td>2020-05-07 22:40:00</td>\n",
       "        <td>338.0</td>\n",
       "    </tr>\n",
       "    <tr>\n",
       "        <td>2020-05-08 09:58:00</td>\n",
       "        <td>302.0</td>\n",
       "    </tr>\n",
       "    <tr>\n",
       "        <td>2020-05-08 12:21:00</td>\n",
       "        <td>348.0</td>\n",
       "    </tr>\n",
       "    <tr>\n",
       "        <td>2020-05-08 14:00:00</td>\n",
       "        <td>319.0</td>\n",
       "    </tr>\n",
       "    <tr>\n",
       "        <td>2020-05-08 18:40:00</td>\n",
       "        <td>306.0</td>\n",
       "    </tr>\n",
       "    <tr>\n",
       "        <td>2020-05-08 21:27:00</td>\n",
       "        <td>273.0</td>\n",
       "    </tr>\n",
       "    <tr>\n",
       "        <td>2020-05-09 19:13:00</td>\n",
       "        <td>326.0</td>\n",
       "    </tr>\n",
       "    <tr>\n",
       "        <td>2020-05-09 02:02:00</td>\n",
       "        <td>326.0</td>\n",
       "    </tr>\n",
       "    <tr>\n",
       "        <td>2020-05-09 09:42:00</td>\n",
       "        <td>227.0</td>\n",
       "    </tr>\n",
       "    <tr>\n",
       "        <td>2020-05-09 13:53:00</td>\n",
       "        <td>154.0</td>\n",
       "    </tr>\n",
       "    <tr>\n",
       "        <td>2020-05-09 17:21:00</td>\n",
       "        <td>164.0</td>\n",
       "    </tr>\n",
       "    <tr>\n",
       "        <td>2020-05-09 22:38:00</td>\n",
       "        <td>123.0</td>\n",
       "    </tr>\n",
       "    <tr>\n",
       "        <td>2020-05-10 02:32:00</td>\n",
       "        <td>191.0</td>\n",
       "    </tr>\n",
       "    <tr>\n",
       "        <td>2020-05-10 10:41:00</td>\n",
       "        <td>69.0</td>\n",
       "    </tr>\n",
       "    <tr>\n",
       "        <td>2020-05-10 13:25:00</td>\n",
       "        <td>181.0</td>\n",
       "    </tr>\n",
       "    <tr>\n",
       "        <td>2020-05-10 19:20:00</td>\n",
       "        <td>155.0</td>\n",
       "    </tr>\n",
       "    <tr>\n",
       "        <td>2020-05-10 20:56:00</td>\n",
       "        <td>139.0</td>\n",
       "    </tr>\n",
       "    <tr>\n",
       "        <td>2020-05-10 21:45:00</td>\n",
       "        <td>174.0</td>\n",
       "    </tr>\n",
       "    <tr>\n",
       "        <td>2020-05-11 02:36:00</td>\n",
       "        <td>212.0</td>\n",
       "    </tr>\n",
       "    <tr>\n",
       "        <td>2020-05-11 05:57:00</td>\n",
       "        <td>296.0</td>\n",
       "    </tr>\n",
       "    <tr>\n",
       "        <td>2020-05-11 08:45:00</td>\n",
       "        <td>162.0</td>\n",
       "    </tr>\n",
       "    <tr>\n",
       "        <td>2020-05-11 12:25:00</td>\n",
       "        <td>114.0</td>\n",
       "    </tr>\n",
       "    <tr>\n",
       "        <td>2020-05-11 18:13:00</td>\n",
       "        <td>107.0</td>\n",
       "    </tr>\n",
       "    <tr>\n",
       "        <td>2020-05-11 19:13:00</td>\n",
       "        <td>93.0</td>\n",
       "    </tr>\n",
       "    <tr>\n",
       "        <td>2020-05-11 21:02:00</td>\n",
       "        <td>184.0</td>\n",
       "    </tr>\n",
       "    <tr>\n",
       "        <td>2020-05-12 00:49:00</td>\n",
       "        <td>160.0</td>\n",
       "    </tr>\n",
       "    <tr>\n",
       "        <td>2020-05-12 00:49:00</td>\n",
       "        <td>162.0</td>\n",
       "    </tr>\n",
       "    <tr>\n",
       "        <td>2020-05-12 03:46:00</td>\n",
       "        <td>60.0</td>\n",
       "    </tr>\n",
       "    <tr>\n",
       "        <td>2020-05-12 09:27:00</td>\n",
       "        <td>84.0</td>\n",
       "    </tr>\n",
       "    <tr>\n",
       "        <td>2020-05-12 12:22:00</td>\n",
       "        <td>90.0</td>\n",
       "    </tr>\n",
       "    <tr>\n",
       "        <td>2020-05-12 17:52:00</td>\n",
       "        <td>85.0</td>\n",
       "    </tr>\n",
       "    <tr>\n",
       "        <td>2020-05-12 20:41:00</td>\n",
       "        <td>138.0</td>\n",
       "    </tr>\n",
       "    <tr>\n",
       "        <td>2020-05-13 00:40:00</td>\n",
       "        <td>170.0</td>\n",
       "    </tr>\n",
       "    <tr>\n",
       "        <td>2020-05-13 04:07:00</td>\n",
       "        <td>65.0</td>\n",
       "    </tr>\n",
       "    <tr>\n",
       "        <td>2020-05-13 09:12:00</td>\n",
       "        <td>165.0</td>\n",
       "    </tr>\n",
       "    <tr>\n",
       "        <td>2020-05-13 13:08:00</td>\n",
       "        <td>161.0</td>\n",
       "    </tr>\n",
       "    <tr>\n",
       "        <td>2020-05-13 14:31:00</td>\n",
       "        <td>65.0</td>\n",
       "    </tr>\n",
       "    <tr>\n",
       "        <td>2020-05-13 16:06:00</td>\n",
       "        <td>66.0</td>\n",
       "    </tr>\n",
       "    <tr>\n",
       "        <td>2020-05-13 17:33:00</td>\n",
       "        <td>125.0</td>\n",
       "    </tr>\n",
       "    <tr>\n",
       "        <td>2020-05-13 19:47:00</td>\n",
       "        <td>174.0</td>\n",
       "    </tr>\n",
       "    <tr>\n",
       "        <td>2020-05-13 22:13:00</td>\n",
       "        <td>263.0</td>\n",
       "    </tr>\n",
       "    <tr>\n",
       "        <td>2020-05-14 00:01:00</td>\n",
       "        <td>235.0</td>\n",
       "    </tr>\n",
       "    <tr>\n",
       "        <td>2020-05-14 02:10:00</td>\n",
       "        <td>118.0</td>\n",
       "    </tr>\n",
       "    <tr>\n",
       "        <td>2020-05-14 05:50:00</td>\n",
       "        <td>118.0</td>\n",
       "    </tr>\n",
       "    <tr>\n",
       "        <td>2020-05-14 10:07:00</td>\n",
       "        <td>95.0</td>\n",
       "    </tr>\n",
       "    <tr>\n",
       "        <td>2020-05-14 15:02:00</td>\n",
       "        <td>139.0</td>\n",
       "    </tr>\n",
       "    <tr>\n",
       "        <td>2020-05-14 20:24:00</td>\n",
       "        <td>127.0</td>\n",
       "    </tr>\n",
       "    <tr>\n",
       "        <td>0033-05-14 23:26:00</td>\n",
       "        <td>218.0</td>\n",
       "    </tr>\n",
       "    <tr>\n",
       "        <td>2020-05-15 01:51:00</td>\n",
       "        <td>190.0</td>\n",
       "    </tr>\n",
       "    <tr>\n",
       "        <td>2020-05-15 03:15:00</td>\n",
       "        <td>163.0</td>\n",
       "    </tr>\n",
       "    <tr>\n",
       "        <td>2020-05-15 13:39:00</td>\n",
       "        <td>98.0</td>\n",
       "    </tr>\n",
       "    <tr>\n",
       "        <td>2020-05-15 16:11:00</td>\n",
       "        <td>158.0</td>\n",
       "    </tr>\n",
       "    <tr>\n",
       "        <td>2020-05-15 20:28:00</td>\n",
       "        <td>127.0</td>\n",
       "    </tr>\n",
       "    <tr>\n",
       "        <td>2020-05-15 21:50:00</td>\n",
       "        <td>169.0</td>\n",
       "    </tr>\n",
       "    <tr>\n",
       "        <td>0107-05-16 00:00:00</td>\n",
       "        <td>222.0</td>\n",
       "    </tr>\n",
       "    <tr>\n",
       "        <td>2020-05-16 12:59:00</td>\n",
       "        <td>98.0</td>\n",
       "    </tr>\n",
       "    <tr>\n",
       "        <td>2020-05-16 17:13:00</td>\n",
       "        <td>146.0</td>\n",
       "    </tr>\n",
       "    <tr>\n",
       "        <td>2020-05-16 20:20:00</td>\n",
       "        <td>114.0</td>\n",
       "    </tr>\n",
       "    <tr>\n",
       "        <td>2020-05-16 22:48:00</td>\n",
       "        <td>228.0</td>\n",
       "    </tr>\n",
       "    <tr>\n",
       "        <td>2020-05-17 01:36:00</td>\n",
       "        <td>155.0</td>\n",
       "    </tr>\n",
       "    <tr>\n",
       "        <td>2020-05-17 12:12:00</td>\n",
       "        <td>150.0</td>\n",
       "    </tr>\n",
       "    <tr>\n",
       "        <td>2020-05-17 14:44:00</td>\n",
       "        <td>175.0</td>\n",
       "    </tr>\n",
       "    <tr>\n",
       "        <td>2020-05-17 19:50:00</td>\n",
       "        <td>171.0</td>\n",
       "    </tr>\n",
       "    <tr>\n",
       "        <td>2020-05-18 00:05:00</td>\n",
       "        <td>154.0</td>\n",
       "    </tr>\n",
       "    <tr>\n",
       "        <td>2020-05-18 11:27:00</td>\n",
       "        <td>143.0</td>\n",
       "    </tr>\n",
       "    <tr>\n",
       "        <td>2020-05-18 16:26:00</td>\n",
       "        <td>99.0</td>\n",
       "    </tr>\n",
       "    <tr>\n",
       "        <td>2020-05-18 20:23:00</td>\n",
       "        <td>143.0</td>\n",
       "    </tr>\n",
       "    <tr>\n",
       "        <td>2020-05-18 23:26:00</td>\n",
       "        <td>218.0</td>\n",
       "    </tr>\n",
       "    <tr>\n",
       "        <td>2020-05-19 07:20:00</td>\n",
       "        <td>104.0</td>\n",
       "    </tr>\n",
       "    <tr>\n",
       "        <td>2020-05-19 12:49:00</td>\n",
       "        <td>157.0</td>\n",
       "    </tr>\n",
       "    <tr>\n",
       "        <td>2020-05-19 15:16:00</td>\n",
       "        <td>84.0</td>\n",
       "    </tr>\n",
       "    <tr>\n",
       "        <td>2020-05-19 18:45:00</td>\n",
       "        <td>90.0</td>\n",
       "    </tr>\n",
       "    <tr>\n",
       "        <td>2020-05-19 21:22:00</td>\n",
       "        <td>183.0</td>\n",
       "    </tr>\n",
       "    <tr>\n",
       "        <td>2020-05-20 10:37:00</td>\n",
       "        <td>121.0</td>\n",
       "    </tr>\n",
       "    <tr>\n",
       "        <td>2020-05-20 15:58:00</td>\n",
       "        <td>95.0</td>\n",
       "    </tr>\n",
       "    <tr>\n",
       "        <td>2020-05-20 21:13:00</td>\n",
       "        <td>112.0</td>\n",
       "    </tr>\n",
       "    <tr>\n",
       "        <td>2020-05-21 00:28:00</td>\n",
       "        <td>129.0</td>\n",
       "    </tr>\n",
       "    <tr>\n",
       "        <td>2020-05-21 10:17:00</td>\n",
       "        <td>82.0</td>\n",
       "    </tr>\n",
       "    <tr>\n",
       "        <td>2020-05-21 14:12:00</td>\n",
       "        <td>109.0</td>\n",
       "    </tr>\n",
       "    <tr>\n",
       "        <td>2020-05-21 20:38:00</td>\n",
       "        <td>106.0</td>\n",
       "    </tr>\n",
       "    <tr>\n",
       "        <td>2020-05-22 10:15:00</td>\n",
       "        <td>59.0</td>\n",
       "    </tr>\n",
       "    <tr>\n",
       "        <td>2020-05-22 10:16:00</td>\n",
       "        <td>69.0</td>\n",
       "    </tr>\n",
       "    <tr>\n",
       "        <td>2020-05-22 10:24:00</td>\n",
       "        <td>62.0</td>\n",
       "    </tr>\n",
       "    <tr>\n",
       "        <td>2020-05-22 14:42:00</td>\n",
       "        <td>90.0</td>\n",
       "    </tr>\n",
       "    <tr>\n",
       "        <td>2020-05-22 21:13:00</td>\n",
       "        <td>83.0</td>\n",
       "    </tr>\n",
       "    <tr>\n",
       "        <td>2020-05-23 01:22:00</td>\n",
       "        <td>221.0</td>\n",
       "    </tr>\n",
       "    <tr>\n",
       "        <td>2020-05-23 14:17:00</td>\n",
       "        <td>151.0</td>\n",
       "    </tr>\n",
       "    <tr>\n",
       "        <td>2020-05-23 23:16:00</td>\n",
       "        <td>185.0</td>\n",
       "    </tr>\n",
       "    <tr>\n",
       "        <td>2020-05-24 04:31:00</td>\n",
       "        <td>126.0</td>\n",
       "    </tr>\n",
       "    <tr>\n",
       "        <td>2020-05-24 14:01:00</td>\n",
       "        <td>159.0</td>\n",
       "    </tr>\n",
       "    <tr>\n",
       "        <td>2020-05-24 14:02:00</td>\n",
       "        <td>168.0</td>\n",
       "    </tr>\n",
       "    <tr>\n",
       "        <td>2020-05-24 23:32:00</td>\n",
       "        <td>151.0</td>\n",
       "    </tr>\n",
       "    <tr>\n",
       "        <td>2020-05-25 11:36:00</td>\n",
       "        <td>113.0</td>\n",
       "    </tr>\n",
       "    <tr>\n",
       "        <td>2020-05-25 18:51:00</td>\n",
       "        <td>132.0</td>\n",
       "    </tr>\n",
       "    <tr>\n",
       "        <td>2020-05-26 10:44:00</td>\n",
       "        <td>100.0</td>\n",
       "    </tr>\n",
       "    <tr>\n",
       "        <td>2020-05-26 23:39:00</td>\n",
       "        <td>95.0</td>\n",
       "    </tr>\n",
       "    <tr>\n",
       "        <td>2020-05-27 16:23:00</td>\n",
       "        <td>109.0</td>\n",
       "    </tr>\n",
       "    <tr>\n",
       "        <td>2020-05-28 01:19:00</td>\n",
       "        <td>126.0</td>\n",
       "    </tr>\n",
       "    <tr>\n",
       "        <td>2020-05-28 12:46:00</td>\n",
       "        <td>106.0</td>\n",
       "    </tr>\n",
       "    <tr>\n",
       "        <td>2020-05-29 03:10:00</td>\n",
       "        <td>95.0</td>\n",
       "    </tr>\n",
       "</table>"
      ],
      "text/plain": [
       "[('2020-05-04 21:24:00', 456.0),\n",
       " ('2020-05-05 14:12:00', 215.0),\n",
       " ('2020-05-05 12:27:00', 206.0),\n",
       " ('2020-05-05 09:17:00', 223.0),\n",
       " ('2020-05-05 17:02:00', 285.0),\n",
       " ('2020-05-05 23:37:00', 343.0),\n",
       " ('2020-05-06 03:05:00', 302.0),\n",
       " ('2020-05-06 11:04:00', 209.0),\n",
       " ('2020-05-06 12:54:00', 245.0),\n",
       " ('2020-05-06 03:27:00', 214.0),\n",
       " ('2020-05-06 17:02:00', 227.0),\n",
       " ('2020-05-06 07:29:00', 222.0),\n",
       " ('2020-05-06 19:29:00', 222.0),\n",
       " ('2020-05-06 20:21:00', 151.0),\n",
       " ('2020-05-06 23:00:00', 286.0),\n",
       " ('2020-05-07 00:47:00', 284.0),\n",
       " ('2020-05-07 06:26:00', 66.0),\n",
       " ('2020-05-07 08:39:00', 362.0),\n",
       " ('2020-05-07 08:41:00', 347.0),\n",
       " ('2020-05-07 08:43:00', 338.0),\n",
       " ('2020-05-07 11:28:00', 340.0),\n",
       " ('2020-05-07 14:57:00', 320.0),\n",
       " ('2020-05-07 18:40:00', 235.0),\n",
       " ('2020-05-07 20:59:00', 294.0),\n",
       " ('2020-05-07 22:40:00', 338.0),\n",
       " ('2020-05-08 09:58:00', 302.0),\n",
       " ('2020-05-08 12:21:00', 348.0),\n",
       " ('2020-05-08 14:00:00', 319.0),\n",
       " ('2020-05-08 18:40:00', 306.0),\n",
       " ('2020-05-08 21:27:00', 273.0),\n",
       " ('2020-05-09 19:13:00', 326.0),\n",
       " ('2020-05-09 02:02:00', 326.0),\n",
       " ('2020-05-09 09:42:00', 227.0),\n",
       " ('2020-05-09 13:53:00', 154.0),\n",
       " ('2020-05-09 17:21:00', 164.0),\n",
       " ('2020-05-09 22:38:00', 123.0),\n",
       " ('2020-05-10 02:32:00', 191.0),\n",
       " ('2020-05-10 10:41:00', 69.0),\n",
       " ('2020-05-10 13:25:00', 181.0),\n",
       " ('2020-05-10 19:20:00', 155.0),\n",
       " ('2020-05-10 20:56:00', 139.0),\n",
       " ('2020-05-10 21:45:00', 174.0),\n",
       " ('2020-05-11 02:36:00', 212.0),\n",
       " ('2020-05-11 05:57:00', 296.0),\n",
       " ('2020-05-11 08:45:00', 162.0),\n",
       " ('2020-05-11 12:25:00', 114.0),\n",
       " ('2020-05-11 18:13:00', 107.0),\n",
       " ('2020-05-11 19:13:00', 93.0),\n",
       " ('2020-05-11 21:02:00', 184.0),\n",
       " ('2020-05-12 00:49:00', 160.0),\n",
       " ('2020-05-12 00:49:00', 162.0),\n",
       " ('2020-05-12 03:46:00', 60.0),\n",
       " ('2020-05-12 09:27:00', 84.0),\n",
       " ('2020-05-12 12:22:00', 90.0),\n",
       " ('2020-05-12 17:52:00', 85.0),\n",
       " ('2020-05-12 20:41:00', 138.0),\n",
       " ('2020-05-13 00:40:00', 170.0),\n",
       " ('2020-05-13 04:07:00', 65.0),\n",
       " ('2020-05-13 09:12:00', 165.0),\n",
       " ('2020-05-13 13:08:00', 161.0),\n",
       " ('2020-05-13 14:31:00', 65.0),\n",
       " ('2020-05-13 16:06:00', 66.0),\n",
       " ('2020-05-13 17:33:00', 125.0),\n",
       " ('2020-05-13 19:47:00', 174.0),\n",
       " ('2020-05-13 22:13:00', 263.0),\n",
       " ('2020-05-14 00:01:00', 235.0),\n",
       " ('2020-05-14 02:10:00', 118.0),\n",
       " ('2020-05-14 05:50:00', 118.0),\n",
       " ('2020-05-14 10:07:00', 95.0),\n",
       " ('2020-05-14 15:02:00', 139.0),\n",
       " ('2020-05-14 20:24:00', 127.0),\n",
       " ('0033-05-14 23:26:00', 218.0),\n",
       " ('2020-05-15 01:51:00', 190.0),\n",
       " ('2020-05-15 03:15:00', 163.0),\n",
       " ('2020-05-15 13:39:00', 98.0),\n",
       " ('2020-05-15 16:11:00', 158.0),\n",
       " ('2020-05-15 20:28:00', 127.0),\n",
       " ('2020-05-15 21:50:00', 169.0),\n",
       " ('0107-05-16 00:00:00', 222.0),\n",
       " ('2020-05-16 12:59:00', 98.0),\n",
       " ('2020-05-16 17:13:00', 146.0),\n",
       " ('2020-05-16 20:20:00', 114.0),\n",
       " ('2020-05-16 22:48:00', 228.0),\n",
       " ('2020-05-17 01:36:00', 155.0),\n",
       " ('2020-05-17 12:12:00', 150.0),\n",
       " ('2020-05-17 14:44:00', 175.0),\n",
       " ('2020-05-17 19:50:00', 171.0),\n",
       " ('2020-05-18 00:05:00', 154.0),\n",
       " ('2020-05-18 11:27:00', 143.0),\n",
       " ('2020-05-18 16:26:00', 99.0),\n",
       " ('2020-05-18 20:23:00', 143.0),\n",
       " ('2020-05-18 23:26:00', 218.0),\n",
       " ('2020-05-19 07:20:00', 104.0),\n",
       " ('2020-05-19 12:49:00', 157.0),\n",
       " ('2020-05-19 15:16:00', 84.0),\n",
       " ('2020-05-19 18:45:00', 90.0),\n",
       " ('2020-05-19 21:22:00', 183.0),\n",
       " ('2020-05-20 10:37:00', 121.0),\n",
       " ('2020-05-20 15:58:00', 95.0),\n",
       " ('2020-05-20 21:13:00', 112.0),\n",
       " ('2020-05-21 00:28:00', 129.0),\n",
       " ('2020-05-21 10:17:00', 82.0),\n",
       " ('2020-05-21 14:12:00', 109.0),\n",
       " ('2020-05-21 20:38:00', 106.0),\n",
       " ('2020-05-22 10:15:00', 59.0),\n",
       " ('2020-05-22 10:16:00', 69.0),\n",
       " ('2020-05-22 10:24:00', 62.0),\n",
       " ('2020-05-22 14:42:00', 90.0),\n",
       " ('2020-05-22 21:13:00', 83.0),\n",
       " ('2020-05-23 01:22:00', 221.0),\n",
       " ('2020-05-23 14:17:00', 151.0),\n",
       " ('2020-05-23 23:16:00', 185.0),\n",
       " ('2020-05-24 04:31:00', 126.0),\n",
       " ('2020-05-24 14:01:00', 159.0),\n",
       " ('2020-05-24 14:02:00', 168.0),\n",
       " ('2020-05-24 23:32:00', 151.0),\n",
       " ('2020-05-25 11:36:00', 113.0),\n",
       " ('2020-05-25 18:51:00', 132.0),\n",
       " ('2020-05-26 10:44:00', 100.0),\n",
       " ('2020-05-26 23:39:00', 95.0),\n",
       " ('2020-05-27 16:23:00', 109.0),\n",
       " ('2020-05-28 01:19:00', 126.0),\n",
       " ('2020-05-28 12:46:00', 106.0),\n",
       " ('2020-05-29 03:10:00', 95.0)]"
      ]
     },
     "execution_count": 2,
     "metadata": {},
     "output_type": "execute_result"
    }
   ],
   "source": [
    "%%sql\n",
    "\n",
    "select * from blood_sugar"
   ]
  },
  {
   "cell_type": "code",
   "execution_count": 3,
   "metadata": {},
   "outputs": [],
   "source": [
    "%%capture bs_table\n",
    "%%sql\n",
    "\n",
    "select * from blood_sugar"
   ]
  },
  {
   "cell_type": "code",
   "execution_count": null,
   "metadata": {},
   "outputs": [],
   "source": []
  },
  {
   "cell_type": "code",
   "execution_count": 4,
   "metadata": {},
   "outputs": [
    {
     "data": {
      "text/plain": [
       "<IPython.utils.capture.CapturedIO at 0x7f08298e7bd0>"
      ]
     },
     "execution_count": 4,
     "metadata": {},
     "output_type": "execute_result"
    }
   ],
   "source": [
    "bs_table"
   ]
  },
  {
   "cell_type": "code",
   "execution_count": 5,
   "metadata": {},
   "outputs": [
    {
     "name": "stdout",
     "output_type": "stream",
     "text": [
      " * sqlite:///test.db\n",
      "Done.\n",
      "\n"
     ]
    }
   ],
   "source": [
    "print(bs_table)"
   ]
  },
  {
   "cell_type": "code",
   "execution_count": 3,
   "metadata": {},
   "outputs": [
    {
     "name": "stdout",
     "output_type": "stream",
     "text": [
      " * sqlite:///bs.db\n",
      "(sqlite3.OperationalError) near \"%\": syntax error\n",
      "[SQL: %db_query]\n",
      "(Background on this error at: http://sqlalche.me/e/e3q8)\n"
     ]
    }
   ],
   "source": [
    "db_query = 'select * from blood_sugar'\n",
    "%sql %db_query"
   ]
  },
  {
   "cell_type": "code",
   "execution_count": 4,
   "metadata": {},
   "outputs": [
    {
     "name": "stderr",
     "output_type": "stream",
     "text": [
      "UsageError: %%sql is a cell magic, but the cell body is empty. Did you mean the line magic %sql (single %)?\n"
     ]
    }
   ],
   "source": [
    "%%sql %db_query"
   ]
  },
  {
   "cell_type": "code",
   "execution_count": 5,
   "metadata": {},
   "outputs": [
    {
     "name": "stdout",
     "output_type": "stream",
     "text": [
      " * sqlite:///bs.db\n",
      "Done.\n"
     ]
    }
   ],
   "source": [
    "result = %sql $db_query"
   ]
  },
  {
   "cell_type": "code",
   "execution_count": 6,
   "metadata": {},
   "outputs": [
    {
     "data": {
      "text/plain": [
       "<BarContainer object of 124 artists>"
      ]
     },
     "execution_count": 6,
     "metadata": {},
     "output_type": "execute_result"
    },
    {
     "data": {
      "image/png": "[encoded data removed]",
      "text/plain": [
       "<Figure size 432x288 with 1 Axes>"
      ]
     },
     "metadata": {
      "needs_background": "light"
     },
     "output_type": "display_data"
    }
   ],
   "source": [
    "import matplotlib.pyplot as plt\n",
    "%matplotlib inline\n",
    "\n",
    "result.bar()"
   ]
  },
  {
   "cell_type": "code",
   "execution_count": 15,
   "metadata": {},
   "outputs": [
    {
     "name": "stdout",
     "output_type": "stream",
     "text": [
      "bs.db                       \u001b[0m\u001b[01;34mjournal\u001b[0m/          test.db\r\n",
      "database_tools.ipynb        \u001b[01;34m__pycache__\u001b[0m/      test_db.ipynb\r\n",
      "data.json                   readme.ipynb      test_food.db\r\n",
      "dis_helper.py               README.md         \u001b[01;34mUntitled_files\u001b[0m/\r\n",
      "dis_test.py                 README.md.backup  write_to_json.py\r\n",
      "example_db_connector.ipynb  resources\r\n"
     ]
    }
   ],
   "source": [
    "ls"
   ]
  },
  {
   "cell_type": "code",
   "execution_count": 1,
   "metadata": {},
   "outputs": [
    {
     "name": "stdout",
     "output_type": "stream",
     "text": [
      "rm: cannot remove 'test_food.db': No such file or directory\r\n"
     ]
    }
   ],
   "source": [
    "rm test_food.db"
   ]
  },
  {
   "cell_type": "code",
   "execution_count": 18,
   "metadata": {},
   "outputs": [
    {
     "data": {
      "text/plain": [
       "'Connected: @bs.db'"
      ]
     },
     "execution_count": 18,
     "metadata": {},
     "output_type": "execute_result"
    }
   ],
   "source": [
    "%sql sqlite:///bs.db"
   ]
  },
  {
   "cell_type": "code",
   "execution_count": 19,
   "metadata": {},
   "outputs": [
    {
     "data": {
      "text/html": [
       "<table>\n",
       "    <tr>\n",
       "        <th>date_measure_taken</th>\n",
       "        <th>bs_measure</th>\n",
       "    </tr>\n",
       "    <tr>\n",
       "        <td>2020-06-05 11:07:21</td>\n",
       "        <td>123.0</td>\n",
       "    </tr>\n",
       "    <tr>\n",
       "        <td>2020-06-05 11:20:23</td>\n",
       "        <td>100.0</td>\n",
       "    </tr>\n",
       "    <tr>\n",
       "        <td>2020-06-05 11:21:34</td>\n",
       "        <td>147.0</td>\n",
       "    </tr>\n",
       "    <tr>\n",
       "        <td>2020-06-05 11:39:38</td>\n",
       "        <td>90.0</td>\n",
       "    </tr>\n",
       "    <tr>\n",
       "        <td>2020-06-05 11:53:07</td>\n",
       "        <td>140.0</td>\n",
       "    </tr>\n",
       "    <tr>\n",
       "        <td>2020-06-05 12:00:08</td>\n",
       "        <td>122.0</td>\n",
       "    </tr>\n",
       "</table>"
      ],
      "text/plain": [
       "[('2020-06-05 11:07:21', 123.0),\n",
       " ('2020-06-05 11:20:23', 100.0),\n",
       " ('2020-06-05 11:21:34', 147.0),\n",
       " ('2020-06-05 11:39:38', 90.0),\n",
       " ('2020-06-05 11:53:07', 140.0),\n",
       " ('2020-06-05 12:00:08', 122.0)]"
      ]
     },
     "execution_count": 19,
     "metadata": {},
     "output_type": "execute_result"
    }
   ],
   "source": []
  },
  {
   "cell_type": "code",
   "execution_count": 19,
   "metadata": {},
   "outputs": [
    {
     "name": "stdout",
     "output_type": "stream",
     "text": [
      "Sun Jun  7 14:13:31 CDT 2020\r\n"
     ]
    }
   ],
   "source": [
    "!date\n",
    "# over ran this a few times but on this day Sun Jun  7 14:13:31 CDT 2020\n",
    "# experimenting with split\n",
    "# should be experimenting with join\n",
    "# discord bot takes in things as a tuple i suppose?"
   ]
  },
  {
   "cell_type": "code",
   "execution_count": 18,
   "metadata": {},
   "outputs": [
    {
     "data": {
      "text/plain": [
       "tuple"
      ]
     },
     "execution_count": 18,
     "metadata": {},
     "output_type": "execute_result"
    }
   ],
   "source": [
    "a = ('one','two','three')\n",
    "type(a)"
   ]
  },
  {
   "cell_type": "code",
   "execution_count": 23,
   "metadata": {},
   "outputs": [
    {
     "data": {
      "text/plain": [
       "\"['one', 'two', 'three']\""
      ]
     },
     "execution_count": 23,
     "metadata": {},
     "output_type": "execute_result"
    }
   ],
   "source": [
    "a = list(a)\n",
    "str(a)\n"
   ]
  },
  {
   "cell_type": "code",
   "execution_count": 2,
   "metadata": {},
   "outputs": [],
   "source": [
    "%%capture\n",
    "%load_ext sql\n",
    "%sql sqlite:///test_food.db"
   ]
  },
  {
   "cell_type": "code",
   "execution_count": 7,
   "metadata": {},
   "outputs": [
    {
     "name": "stdout",
     "output_type": "stream",
     "text": [
      " * sqlite:///test_food.db\n",
      "Done.\n"
     ]
    },
    {
     "data": {
      "text/html": [
       "<table>\n",
       "    <tr>\n",
       "        <th>date_measure_taken</th>\n",
       "        <th>food_consumed</th>\n",
       "    </tr>\n",
       "    <tr>\n",
       "        <td>2020-06-07 14:30:55</td>\n",
       "        <td>eggs peas salmon</td>\n",
       "    </tr>\n",
       "    <tr>\n",
       "        <td>2020-06-07 14:31:45</td>\n",
       "        <td>eggs, peas, salmon</td>\n",
       "    </tr>\n",
       "</table>"
      ],
      "text/plain": [
       "[('2020-06-07 14:30:55', 'eggs peas salmon'),\n",
       " ('2020-06-07 14:31:45', 'eggs, peas, salmon')]"
      ]
     },
     "execution_count": 7,
     "metadata": {},
     "output_type": "execute_result"
    }
   ],
   "source": [
    "%%sql\n",
    "select * from food"
   ]
  },
  {
   "cell_type": "code",
   "execution_count": null,
   "metadata": {},
   "outputs": [],
   "source": []
  }
 ],
 "metadata": {
  "kernelspec": {
   "display_name": "Python 3",
   "language": "python",
   "name": "python3"
  },
  "language_info": {
   "codemirror_mode": {
    "name": "ipython",
    "version": 3
   },
   "file_extension": ".py",
   "mimetype": "text/x-python",
   "name": "python",
   "nbconvert_exporter": "python",
   "pygments_lexer": "ipython3",
   "version": "3.7.6"
  }
 },
 "nbformat": 4,
 "nbformat_minor": 4
}
